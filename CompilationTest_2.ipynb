{
 "cells": [
  {
   "cell_type": "code",
   "execution_count": 3,
   "id": "78eb6855-db20-4632-9e50-27f58eebb33c",
   "metadata": {},
   "outputs": [],
   "source": [
    "import numpy as np\n",
    "import pandas as pd\n",
    "from astropy.coordinates import SkyCoord\n",
    "import astropy.units as u\n",
    "from astropy.io import fits\n",
    "import plotly.graph_objects as go\n",
    "\n",
    "from dustmaps.edenhofer2023 import Edenhofer2023Query\n",
    "\n",
    "plot_save_directory = \"./savedplots/\""
   ]
  },
  {
   "cell_type": "code",
   "execution_count": 4,
   "id": "3bde4030-9266-4524-9ad3-525a240f0116",
   "metadata": {},
   "outputs": [
    {
     "name": "stdout",
     "output_type": "stream",
     "text": [
      "Checking existing file to see if MD5 sum matches ...\n",
      "File exists. Not overwriting.\n"
     ]
    }
   ],
   "source": [
    "import dustmaps.edenhofer2023\n",
    "dustmaps.edenhofer2023.fetch()"
   ]
  },
  {
   "cell_type": "code",
   "execution_count": 5,
   "id": "904d4033",
   "metadata": {},
   "outputs": [],
   "source": [
    "def check_inside(x, y, z, r, h, t=(0,0,0), RotMat=np.array([[1,0,0],[0,1,0],[0,0,1]])):\n",
    "    \"\"\"\n",
    "    Check if a point is inside the cylinder\n",
    "    \"\"\"\n",
    "    # substraction of the translation\n",
    "    x -= t[0]\n",
    "    y -= t[1]\n",
    "    z -= t[2]\n",
    "    # rotation with the inverse of the rotation matrix\n",
    "    x, y, z = np.linalg.inv(RotMat)@np.array([x, y, z])\n",
    "\n",
    "    return z**2 + y**2 <= r**2 and -h/2 <= x <= h/2"
   ]
  },
  {
   "cell_type": "code",
   "execution_count": 6,
   "id": "b81e1ffa",
   "metadata": {},
   "outputs": [],
   "source": [
    "def filledcylinder(r, h, nt=90, nh=100, nr=150):\n",
    "    \"\"\"\n",
    "    Parametrize cylinder of radius r, height h\n",
    "    \"\"\"\n",
    "    theta = np.linspace(0, 2*np.pi, nt)\n",
    "    v = np.linspace(-h/2, h/2, nh)\n",
    "    rr = np.linspace(0, r, nr)\n",
    "    rr, theta, v = np.meshgrid(rr, theta, v)\n",
    "\n",
    "    y = rr*np.cos(theta)\n",
    "    z = rr*np.sin(theta)\n",
    "    x = v\n",
    "    return x, y, z\n",
    "\n",
    "def rotationMatrix(a=0, b=0, c=0):\n",
    "    \"\"\"\n",
    "    Return the Rotation Matrix with yaw a about z, pitch b about y, and roll c about x\n",
    "    \"\"\"\n",
    "    Ra = np.array([\n",
    "        [np.cos(a), -np.sin(a), 0],\n",
    "        [np.sin(a), np.cos(a), 0],\n",
    "        [0, 0, 1]])\n",
    "\n",
    "    Rb = np.array([\n",
    "        [np.cos(-b), 0, np.sin(-b)],\n",
    "        [0, 1, 0],\n",
    "        [-np.sin(-b), 0, np.cos(-b)]\n",
    "    ])\n",
    "\n",
    "    Rc = np.array([\n",
    "        [1, 0, 0],\n",
    "        [0, np.cos(c), -np.sin(c)],\n",
    "        [0, np.sin(c), np.cos(c)]\n",
    "    ])\n",
    "\n",
    "    return Ra@Rb@Rc"
   ]
  },
  {
   "cell_type": "code",
   "execution_count": 7,
   "id": "42a7c833",
   "metadata": {},
   "outputs": [],
   "source": [
    "def query_Edenhofer(x, y, z):\n",
    "    xx, yy, zz = np.meshgrid(x, y, z)\n",
    "\n",
    "    sc = SkyCoord(\n",
    "        xx.flatten() * u.pc,\n",
    "        yy.flatten() * u.pc,\n",
    "        zz.flatten() * u.pc,\n",
    "        frame = \"galactic\",\n",
    "        representation_type = \"cartesian\"\n",
    "    )\n",
    "    sc.representation_type = \"spherical\"\n",
    "    dust = Edenhofer2023Query().query(sc)\n",
    "    return dust"
   ]
  },
  {
   "cell_type": "code",
   "execution_count": 8,
   "id": "fdab13ae",
   "metadata": {},
   "outputs": [],
   "source": [
    "def query_Edenhofer_in_cyl(t=(0, 0, 0), r=100, h=100, a=0, b=0, nt=20, nh=15, nr=20, nx=20, ny=20, nz=20):\n",
    "    x1, y1, z1 = filledcylinder(r, h)\n",
    "    RotMat = rotationMatrix(a, b)\n",
    "\n",
    "    S = np.stack((x1, y1, z1), axis = 2)\n",
    "    rotatedStack = RotMat@S\n",
    "    xx = rotatedStack[:,:,0,:]+t[0]\n",
    "    yy = rotatedStack[:,:,1,:]+t[1]\n",
    "    zz = rotatedStack[:,:,2,:]+t[2]\n",
    "\n",
    "    xt = np.linspace(np.min(xx), np.max(xx), nx)\n",
    "    yt = np.linspace(np.min(yy), np.max(yy), ny)\n",
    "    zt = np.linspace(np.min(zz), np.max(zz), nz)\n",
    "\n",
    "    xt_grid, yt_grid, zt_grid = np.meshgrid(xt, yt, zt)\n",
    "\n",
    "    sc = SkyCoord(\n",
    "        xt_grid.flatten() * u.pc,\n",
    "        yt_grid.flatten() * u.pc,\n",
    "        zt_grid.flatten() * u.pc,\n",
    "        frame = \"galactic\",\n",
    "        representation_type = \"cartesian\"\n",
    "    )\n",
    "    sc.representation_type = \"spherical\"\n",
    "    dust = Edenhofer2023Query().query(sc)\n",
    "\n",
    "    points_in_space = np.stack([xt_grid.flatten(), yt_grid.flatten(), zt_grid.flatten(), dust], axis = 1)\n",
    "    points_in_cylinder = np.stack([xt_grid.flatten(), yt_grid.flatten(), zt_grid.flatten(), np.zeros_like(dust)], axis = 1)\n",
    "\n",
    "    for i in np.arange(0, dust.shape[0]):\n",
    "        if check_inside(points_in_space[i,0], points_in_space[i,1], points_in_space[i,2], r, h, t, RotMat):\n",
    "            points_in_cylinder[i,3] = points_in_space[i,3]\n",
    "    return points_in_cylinder"
   ]
  },
  {
   "cell_type": "code",
   "execution_count": 9,
   "id": "6477fa42",
   "metadata": {},
   "outputs": [],
   "source": [
    "def Volume_from_dust(points_in_space, minval = 1e-7, maxval = 5e-4, color = \"red\", num = 100):\n",
    "    vol = go.Volume(\n",
    "        x = points_in_space[:,0],\n",
    "        y = points_in_space[:,1],\n",
    "        z = points_in_space[:,2],\n",
    "        value = points_in_space[:,3],\n",
    "        isomin = minval,\n",
    "        isomax = maxval,\n",
    "        colorscale = [[0, \"white\"], [1, color]],\n",
    "        name = \"Cloud \" + str(num),\n",
    "        flatshading = True,\n",
    "        showscale = False,\n",
    "        opacityscale = [[0,0], [1,1]],\n",
    "        surface = dict(show=True, count=1),\n",
    "        showlegend = True\n",
    "    )\n",
    "    return vol"
   ]
  },
  {
   "cell_type": "markdown",
   "id": "4b7c54e2-f12a-4172-b5f5-8af0e73d85b5",
   "metadata": {},
   "source": [
    "# Cloud 1"
   ]
  },
  {
   "cell_type": "code",
   "execution_count": 10,
   "id": "41ee011c-3cbe-4262-9607-f26a9bdc7778",
   "metadata": {},
   "outputs": [
    {
     "name": "stderr",
     "output_type": "stream",
     "text": [
      "Optimizing map for querying (this might take a couple of seconds)...\n"
     ]
    }
   ],
   "source": [
    "### Wolke 1\n",
    "\n",
    "#Define SkyCoord\n",
    "#x1 = np.arange(630, 870, 10)\n",
    "#y1 = np.arange(-170, 150, 10)\n",
    "#z1 = np.arange(0, 250,10)\n",
    "#\n",
    "#dust_W1 = query_Edenhofer(x1, y1, z1)\n",
    "\n",
    "points_in_C1 = query_Edenhofer_in_cyl(\n",
    "    t=(740,40,100),\n",
    "    r=80,\n",
    "    h=300,\n",
    "    a=-(1/4)*np.pi\n",
    ")"
   ]
  },
  {
   "cell_type": "code",
   "execution_count": 11,
   "id": "4afef2d2-d67d-4488-be22-0d0f5bdeb2db",
   "metadata": {},
   "outputs": [],
   "source": [
    "volume_dust_C1 = Volume_from_dust(\n",
    "    points_in_C1,\n",
    "    minval = 1e-6,\n",
    "    maxval = 1.6e-3,\n",
    "    color = \"red\",\n",
    "    num = 1\n",
    ")"
   ]
  },
  {
   "cell_type": "markdown",
   "id": "5d689868-3d50-4516-bdb8-4f57cf48a590",
   "metadata": {},
   "source": [
    "___\n",
    "# Cloud 2"
   ]
  },
  {
   "cell_type": "code",
   "execution_count": 12,
   "id": "93a36ae1-b363-4ae2-8af8-b145311cb184",
   "metadata": {},
   "outputs": [
    {
     "name": "stderr",
     "output_type": "stream",
     "text": [
      "Optimizing map for querying (this might take a couple of seconds)...\n"
     ]
    }
   ],
   "source": [
    "### Wolke 2\n",
    "\n",
    "#Define SkyCoord\n",
    "#x2 = np.arange(450, 660, 10)\n",
    "#y2 = np.arange(-440, -100, 10)\n",
    "#z2 = np.arange(0, 220,10)\n",
    "#\n",
    "#dust_W2 = query_Edenhofer(x2, y2, z2)\n",
    "\n",
    "points_in_C2 = query_Edenhofer_in_cyl(\n",
    "    t=(530, -270, 110),\n",
    "    r=90,\n",
    "    h=345,\n",
    "    a=(1/3)*np.pi,\n",
    "    b=-(1/18)*np.pi\n",
    ")"
   ]
  },
  {
   "cell_type": "code",
   "execution_count": 13,
   "id": "1f9b2f53-7e61-4c75-9b65-33fac833d35c",
   "metadata": {},
   "outputs": [],
   "source": [
    "volume_dust_C2 = Volume_from_dust(\n",
    "    points_in_C2,\n",
    "    minval = 1e-6,\n",
    "    maxval = 1.6e-3,\n",
    "    color = \"orange\",\n",
    "    num = 2\n",
    ")"
   ]
  },
  {
   "cell_type": "markdown",
   "id": "232c035a-86b6-44ae-afe4-c4e278e93f41",
   "metadata": {},
   "source": [
    "___\n",
    "# Cloud 3"
   ]
  },
  {
   "cell_type": "code",
   "execution_count": 67,
   "id": "0f2728ef-b936-4171-ad62-1a047c304566",
   "metadata": {},
   "outputs": [
    {
     "name": "stderr",
     "output_type": "stream",
     "text": [
      "Optimizing map for querying (this might take a couple of seconds)...\n"
     ]
    }
   ],
   "source": [
    "### Wolke 3\n",
    "\n",
    "#Define SkyCoord\n",
    "#x3 = np.arange(-850, -550, 10)\n",
    "#y3 = np.arange(-390, 200, 10)\n",
    "#z3 = np.arange(-80, 150,10)\n",
    "#\n",
    "#dust_W3 = query_Edenhofer(x3, y3, z3)\n",
    "\n",
    "points_in_C3 = query_Edenhofer_in_cyl(\n",
    "    t=(-775, 150, 0),\n",
    "    r=90,\n",
    "    h=800,\n",
    "    a=-(1/2)*np.pi,\n",
    "    b=0,\n",
    "    ny=50\n",
    ")"
   ]
  },
  {
   "cell_type": "code",
   "execution_count": 68,
   "id": "56c5e29b-be88-4cf4-a35d-8128a3b5e654",
   "metadata": {},
   "outputs": [],
   "source": [
    "volume_dust_C3 = Volume_from_dust(\n",
    "    points_in_C3,\n",
    "    minval = 1e-6,\n",
    "    maxval = 1.6e-3,\n",
    "    color = \"blue\",\n",
    "    num = 3\n",
    ")"
   ]
  },
  {
   "cell_type": "markdown",
   "id": "81261875-01ca-4fca-bdef-fb243cf6cb30",
   "metadata": {},
   "source": [
    "___\n",
    "# Cloud 4"
   ]
  },
  {
   "cell_type": "code",
   "execution_count": 16,
   "id": "86efee26-fd35-45db-adb7-d063a2ffc0a1",
   "metadata": {},
   "outputs": [
    {
     "name": "stderr",
     "output_type": "stream",
     "text": [
      "Optimizing map for querying (this might take a couple of seconds)...\n"
     ]
    }
   ],
   "source": [
    "### Wolke 4\n",
    "\n",
    "#Define SkyCoord\n",
    "#x4 = np.arange(240, 540, 10)\n",
    "#y4 = np.arange(250, 800, 10)\n",
    "#z4 = np.arange(-410, -130,10)\n",
    "#\n",
    "#dust_W4 = query_Edenhofer(x4, y4, z4)\n",
    "\n",
    "points_in_C4 = query_Edenhofer_in_cyl(\n",
    "    t=(425, 510, -260),\n",
    "    r=90,\n",
    "    h=550,\n",
    "    a=(7.8/18)*np.pi,\n",
    "    b=(2.4/18)*np.pi\n",
    ")"
   ]
  },
  {
   "cell_type": "code",
   "execution_count": 17,
   "id": "7a305dda-48df-4040-a5f0-508458cd2fe5",
   "metadata": {},
   "outputs": [],
   "source": [
    "volume_dust_C4 = Volume_from_dust(\n",
    "    points_in_C4,\n",
    "    minval = 1e-6,\n",
    "    maxval = 7e-4,\n",
    "    color = \"green\",\n",
    "    num = 4\n",
    ")"
   ]
  },
  {
   "cell_type": "markdown",
   "id": "da9e952a-db71-4a2c-a3e9-30bd0b0f25df",
   "metadata": {},
   "source": [
    "___\n",
    "# Cloud 5"
   ]
  },
  {
   "cell_type": "code",
   "execution_count": 18,
   "id": "f3834f49-0413-4c22-a7ba-a628782a4305",
   "metadata": {},
   "outputs": [
    {
     "name": "stderr",
     "output_type": "stream",
     "text": [
      "Optimizing map for querying (this might take a couple of seconds)...\n"
     ]
    }
   ],
   "source": [
    "### Wolke 5\n",
    "\n",
    "#Define SkyCoord\n",
    "#x5 = np.arange(-550, -100, 10)\n",
    "#y5 = np.arange(-650, 0, 10)\n",
    "#z5 = np.arange(150, 550,10)\n",
    "#\n",
    "#dust_W5 = query_Edenhofer(x5, y5, z5)\n",
    "\n",
    "points_in_C5 = query_Edenhofer_in_cyl(\n",
    "    t=(-340, -320, 370),\n",
    "    r=120,\n",
    "    h=550,\n",
    "    a=-(3.75/18)*np.pi,\n",
    "    b=(4/18)*np.pi\n",
    ")"
   ]
  },
  {
   "cell_type": "code",
   "execution_count": 19,
   "id": "43de513d-eb94-46c4-98f3-8c89bad0ae19",
   "metadata": {},
   "outputs": [],
   "source": [
    "volume_dust_C5 = Volume_from_dust(\n",
    "    points_in_C5,\n",
    "    minval = 1e-6,\n",
    "    maxval = 2e-4,\n",
    "    color = \"cyan\",\n",
    "    num = 5\n",
    ")"
   ]
  },
  {
   "cell_type": "markdown",
   "id": "698c535d-9e68-4719-8892-29dfba5652c8",
   "metadata": {},
   "source": [
    "___\n",
    "# Cloud 6"
   ]
  },
  {
   "cell_type": "code",
   "execution_count": 20,
   "id": "204165b9-2970-4031-b50f-560dfbb91f28",
   "metadata": {},
   "outputs": [
    {
     "name": "stderr",
     "output_type": "stream",
     "text": [
      "Optimizing map for querying (this might take a couple of seconds)...\n"
     ]
    }
   ],
   "source": [
    "### Wolke 6\n",
    "\n",
    "#Define SkyCoord\n",
    "#x6 = np.arange(-1100, -690, 10)\n",
    "#y6 = np.arange(-710, -490, 10)\n",
    "#z6 = np.arange(-110, 260, 10)\n",
    "#\n",
    "#dust_W6 = query_Edenhofer(x6, y6, z6)\n",
    "\n",
    "points_in_C6 = query_Edenhofer_in_cyl(\n",
    "    t=(-910, -595, 80),\n",
    "    r=95,\n",
    "    h=500,\n",
    "    a=(1/18)*np.pi,\n",
    "    b=(4/18)*np.pi\n",
    ")"
   ]
  },
  {
   "cell_type": "code",
   "execution_count": 21,
   "id": "86650ca6-f228-456e-8ffd-ec6807caf049",
   "metadata": {},
   "outputs": [],
   "source": [
    "volume_dust_C6 = Volume_from_dust(\n",
    "    points_in_C6,\n",
    "    minval = 1e-6,\n",
    "    maxval = 1.6e-3,\n",
    "    color = \"teal\",\n",
    "    num = 6\n",
    ")"
   ]
  },
  {
   "cell_type": "markdown",
   "id": "d2122ed8-e853-47d7-808a-cf75692c45e6",
   "metadata": {},
   "source": [
    "___\n",
    "# Cloud 7"
   ]
  },
  {
   "cell_type": "code",
   "execution_count": 22,
   "id": "a0c1262a-7ac9-453c-b46d-649ed4fb3f62",
   "metadata": {},
   "outputs": [
    {
     "name": "stderr",
     "output_type": "stream",
     "text": [
      "Optimizing map for querying (this might take a couple of seconds)...\n"
     ]
    }
   ],
   "source": [
    "### Wolke 7\n",
    "\n",
    "#Define SkyCoord\n",
    "#x7 = np.arange(-910, -600, 10)\n",
    "#y7 = np.arange(-880, -730, 10)\n",
    "#z7 = np.arange(170, 370,10)\n",
    "#\n",
    "#dust_W7 = query_Edenhofer(x7, y7, z7)\n",
    "\n",
    "points_in_C7 = query_Edenhofer_in_cyl(\n",
    "    t=(-750, -825, 230),\n",
    "    r=65,\n",
    "    h=250,\n",
    "    a=(0.75/18)*np.pi,\n",
    "    b=(3/18)*np.pi\n",
    ")"
   ]
  },
  {
   "cell_type": "code",
   "execution_count": 23,
   "id": "e4a49ba5-8325-4b55-9b28-4a322211cdf2",
   "metadata": {},
   "outputs": [],
   "source": [
    "volume_dust_C7 = Volume_from_dust(\n",
    "    points_in_C7,\n",
    "    minval = 1e-6,\n",
    "    maxval = 1e-3,\n",
    "    color = \"gray\",\n",
    "    num = 7\n",
    ")"
   ]
  },
  {
   "cell_type": "markdown",
   "id": "da16b8d6-8b32-4648-8709-a258d6e603e3",
   "metadata": {},
   "source": [
    "___\n",
    "# Cloud 8"
   ]
  },
  {
   "cell_type": "code",
   "execution_count": 24,
   "id": "912259cd-211c-4a15-a013-d651f1248fad",
   "metadata": {},
   "outputs": [
    {
     "name": "stderr",
     "output_type": "stream",
     "text": [
      "Optimizing map for querying (this might take a couple of seconds)...\n"
     ]
    }
   ],
   "source": [
    "### Wolke 8a\n",
    "\n",
    "#Define SkyCoord\n",
    "#x8a = np.arange(-430, -290, 10)\n",
    "#y8a = np.arange(-1120, -1030, 10)\n",
    "#z8a = np.arange(-50, 50, 10)\n",
    "#\n",
    "#dust_W8a = query_Edenhofer(x8a, y8a, z8a)\n",
    "\n",
    "points_in_C8a = query_Edenhofer_in_cyl(\n",
    "    t=(-360, -1075, 0),\n",
    "    r=35,\n",
    "    h=130,\n",
    "    a=(1/18)*np.pi,\n",
    "    b=-(1/18)*np.pi\n",
    ")"
   ]
  },
  {
   "cell_type": "code",
   "execution_count": 25,
   "id": "7222bf05",
   "metadata": {},
   "outputs": [
    {
     "name": "stderr",
     "output_type": "stream",
     "text": [
      "Optimizing map for querying (this might take a couple of seconds)...\n"
     ]
    }
   ],
   "source": [
    "### Wolke 8b\n",
    "\n",
    "#Define SkyCoord\n",
    "#x8b = np.arange(-575, -305, 10)\n",
    "#y8b = np.arange(-1140, -960, 10)\n",
    "#z8b = np.arange(-120, -20, 10)\n",
    "#\n",
    "#dust_W8b = query_Edenhofer(x8b, y8b, z8b)\n",
    "\n",
    "points_in_C8b = query_Edenhofer_in_cyl(\n",
    "    t=(-440, -1050, -70),\n",
    "    r=40,\n",
    "    h=260,\n",
    "    a=(2.5/18)*np.pi,\n",
    "    b=-(0.5/18)*np.pi\n",
    ")"
   ]
  },
  {
   "cell_type": "code",
   "execution_count": 26,
   "id": "ab283192",
   "metadata": {},
   "outputs": [
    {
     "name": "stderr",
     "output_type": "stream",
     "text": [
      "Optimizing map for querying (this might take a couple of seconds)...\n"
     ]
    }
   ],
   "source": [
    "### Wolke 8c\n",
    "\n",
    "#Define SkyCoord\n",
    "#x8c = np.arange(-725, -345, 10)\n",
    "#y8c = np.arange(-1140, -820, 10)\n",
    "#z8c = np.arange(-190, 10, 10)\n",
    "#\n",
    "#dust_W8c = query_Edenhofer(x8c, y8c, z8c)\n",
    "\n",
    "points_in_C8c = query_Edenhofer_in_cyl(\n",
    "    t=(-535, -980, -90),\n",
    "    r=85,\n",
    "    h=340,\n",
    "    a=(3/18)*np.pi,\n",
    "    b=(0.45/18)*np.pi\n",
    ")"
   ]
  },
  {
   "cell_type": "code",
   "execution_count": 27,
   "id": "3ca912cb-4c74-4fcf-949f-92c7b6ad02f7",
   "metadata": {},
   "outputs": [],
   "source": [
    "volume_dust_C8a = Volume_from_dust(\n",
    "    points_in_C8a,\n",
    "    minval = 1e-6,\n",
    "    maxval = 1e-3,\n",
    "    color = \"yellow\",\n",
    "    num = 8\n",
    ")\n",
    "volume_dust_C8a.name = volume_dust_C8a.name + \"a\""
   ]
  },
  {
   "cell_type": "code",
   "execution_count": 28,
   "id": "3135e126",
   "metadata": {},
   "outputs": [],
   "source": [
    "volume_dust_C8b = Volume_from_dust(\n",
    "    points_in_C8b,\n",
    "    minval = 1e-6,\n",
    "    maxval = 2e-3,\n",
    "    color = \"yellow\",\n",
    "    num = 8\n",
    ")\n",
    "volume_dust_C8b.name = volume_dust_C8b.name + \"b\""
   ]
  },
  {
   "cell_type": "code",
   "execution_count": 29,
   "id": "176c0f59",
   "metadata": {},
   "outputs": [],
   "source": [
    "volume_dust_C8c = Volume_from_dust(\n",
    "    points_in_C8c,\n",
    "    minval = 1e-7,\n",
    "    maxval = 1e-3,\n",
    "    color = \"yellow\",\n",
    "    num = 8\n",
    ")\n",
    "volume_dust_C8c.name = volume_dust_C8c.name + \"c\""
   ]
  },
  {
   "cell_type": "markdown",
   "id": "3ba2497b-9fac-4a4e-9e67-e4a01455e24a",
   "metadata": {},
   "source": [
    "___\n",
    "# Cloud 9"
   ]
  },
  {
   "cell_type": "code",
   "execution_count": 30,
   "id": "a11f6f3d-b4ce-4007-b13e-c69261a62a0b",
   "metadata": {},
   "outputs": [
    {
     "name": "stderr",
     "output_type": "stream",
     "text": [
      "Optimizing map for querying (this might take a couple of seconds)...\n"
     ]
    }
   ],
   "source": [
    "### Wolke 9\n",
    "\n",
    "#Define SkyCoord\n",
    "#x9 = np.arange(-400, -190, 10)\n",
    "#y9 = np.arange(690, 950, 10)\n",
    "#z9 = np.arange(-70, 200, 10)\n",
    "#\n",
    "#dust_W9 = query_Edenhofer(x9, y9, z9)\n",
    "\n",
    "points_in_C9 = query_Edenhofer_in_cyl(\n",
    "    t=(-140, 920, 120),\n",
    "    r=120,\n",
    "    h=430,\n",
    "    a=(4.5/18)*np.pi,\n",
    "    b=0\n",
    ")"
   ]
  },
  {
   "cell_type": "code",
   "execution_count": 31,
   "id": "1d89539e-05a3-4de1-977c-f6a686d9cff2",
   "metadata": {},
   "outputs": [],
   "source": [
    "volume_dust_C9 = Volume_from_dust(\n",
    "    points_in_C9,\n",
    "    minval = 1e-7,\n",
    "    maxval = 2e-3,\n",
    "    color = \"lightgreen\",\n",
    "    num = 9\n",
    ")"
   ]
  },
  {
   "cell_type": "markdown",
   "id": "c5509fc2-ed0f-4b57-9ec5-b1ff542b7f26",
   "metadata": {},
   "source": [
    "___\n",
    "# Cloud 10"
   ]
  },
  {
   "cell_type": "code",
   "execution_count": 32,
   "id": "ab9f5a49-e222-4981-baf1-360a35615a0e",
   "metadata": {},
   "outputs": [
    {
     "name": "stderr",
     "output_type": "stream",
     "text": [
      "Optimizing map for querying (this might take a couple of seconds)...\n"
     ]
    }
   ],
   "source": [
    "### Wolke 10\n",
    "\n",
    "#Define SkyCoord\n",
    "#x10 = np.arange(-980, -800, 10)\n",
    "#y10 = np.arange(280, 440, 10)\n",
    "#z10 = np.arange(-480, -270, 10)\n",
    "#\n",
    "#dust_W10 = query_Edenhofer(x10, y10, z10)\n",
    "\n",
    "points_in_C10 = query_Edenhofer_in_cyl(\n",
    "    t=(-910, 350, -380),\n",
    "    r=60,\n",
    "    h=170,\n",
    "    a=(3/18)*np.pi,\n",
    "    b=-(6.5/18)*np.pi\n",
    ")"
   ]
  },
  {
   "cell_type": "code",
   "execution_count": 33,
   "id": "82df9778-a24a-4fdc-9090-8fbb4cc95d8c",
   "metadata": {},
   "outputs": [],
   "source": [
    "volume_dust_C10 = Volume_from_dust(\n",
    "    points_in_C10,\n",
    "    minval = 1e-7,\n",
    "    maxval = 5e-4,\n",
    "    color = \"chocolate\",\n",
    "    num = 10\n",
    ")\n",
    "\n",
    "volume_dust_C10.name += \" (Peanut)\""
   ]
  },
  {
   "cell_type": "markdown",
   "id": "863bdf6d-c8f4-429d-8f91-70595b056c05",
   "metadata": {},
   "source": [
    "___\n",
    "# Cloud 11"
   ]
  },
  {
   "cell_type": "code",
   "execution_count": 34,
   "id": "6073fc31-90d2-4fe0-a77e-9e0453299f69",
   "metadata": {},
   "outputs": [
    {
     "name": "stderr",
     "output_type": "stream",
     "text": [
      "Optimizing map for querying (this might take a couple of seconds)...\n"
     ]
    }
   ],
   "source": [
    "### Wolke 11\n",
    "\n",
    "#Define SkyCoord\n",
    "#x11 = np.arange(-350, -150, 10)\n",
    "#y11 = np.arange(90, 250, 10)\n",
    "#z11 = np.arange(200, 310, 10)\n",
    "#\n",
    "#dust_W11 = query_Edenhofer(x11, y11, z11)\n",
    "\n",
    "points_in_C11 = query_Edenhofer_in_cyl(\n",
    "    t=(-260, 150, 240),\n",
    "    r=60,\n",
    "    h=185,\n",
    "    a=(5/18)*np.pi,\n",
    "    b=(1/18)*np.pi\n",
    ")"
   ]
  },
  {
   "cell_type": "code",
   "execution_count": 35,
   "id": "7d0fef9d-76ea-4ff7-83bb-adafc87f2d0d",
   "metadata": {},
   "outputs": [],
   "source": [
    "volume_dust_C11 = Volume_from_dust(\n",
    "    points_in_C11,\n",
    "    minval = 1e-7,\n",
    "    maxval = 9e-4,\n",
    "    color = \"gold\",\n",
    "    num = 11\n",
    ")"
   ]
  },
  {
   "cell_type": "markdown",
   "id": "f6edd097-e151-4f5c-8e83-61e3fdef9192",
   "metadata": {},
   "source": [
    "___\n",
    "# Cloud 12"
   ]
  },
  {
   "cell_type": "code",
   "execution_count": 36,
   "id": "8a343118-a02e-4960-aabe-b30a938c4d61",
   "metadata": {},
   "outputs": [
    {
     "name": "stderr",
     "output_type": "stream",
     "text": [
      "Optimizing map for querying (this might take a couple of seconds)...\n"
     ]
    }
   ],
   "source": [
    "### Wolke 12\n",
    "\n",
    "#Define SkyCoord\n",
    "#x12 = np.arange(-550, -350, 10)\n",
    "#y12 = np.arange(70, 250, 10)\n",
    "#z12 = np.arange(-120, 0, 10)\n",
    "\n",
    "#dust_W12 = query_Edenhofer(x12, y12, z12)\n",
    "\n",
    "points_in_C12 = query_Edenhofer_in_cyl(\n",
    "    t=(-430, 150, -70),\n",
    "    r=60,\n",
    "    h=220,\n",
    "    a=(2.2/18)*np.pi,\n",
    "    b=-(0.25/18)*np.pi\n",
    ")"
   ]
  },
  {
   "cell_type": "code",
   "execution_count": 37,
   "id": "2d092721-f5ed-4244-981a-cf6dba6127c4",
   "metadata": {},
   "outputs": [],
   "source": [
    "volume_dust_C12 = Volume_from_dust(\n",
    "    points_in_C12,\n",
    "    minval = 9e-6,\n",
    "    maxval = 5e-3,\n",
    "    color = \"olive\",\n",
    "    num = 12\n",
    ")"
   ]
  },
  {
   "cell_type": "markdown",
   "id": "59afc146-b897-4331-b6d1-5173bfbdd4cd",
   "metadata": {},
   "source": [
    "___\n",
    "# Cloud 13"
   ]
  },
  {
   "cell_type": "code",
   "execution_count": 38,
   "id": "c313dca4-0060-42fa-8311-1db1a6858659",
   "metadata": {},
   "outputs": [
    {
     "name": "stderr",
     "output_type": "stream",
     "text": [
      "Optimizing map for querying (this might take a couple of seconds)...\n"
     ]
    }
   ],
   "source": [
    "### Wolke 13\n",
    "\n",
    "#Define SkyCoord\n",
    "#x13 = np.arange(150, 550, 10)\n",
    "#y13 = np.arange(-30, 260, 10)\n",
    "#z13 = np.arange(-450, -190, 10)\n",
    "#\n",
    "#dust_W13 = query_Edenhofer(x13, y13, z13)\n",
    "\n",
    "points_in_C13 = query_Edenhofer_in_cyl(\n",
    "    t=(320, 130, -290),\n",
    "    r=100,\n",
    "    h=300,\n",
    "    a=-(2.7/18)*np.pi,\n",
    "    b=-(1.5/18)*np.pi\n",
    ")   "
   ]
  },
  {
   "cell_type": "code",
   "execution_count": 39,
   "id": "31d82134-f275-4bad-ab99-3a6e26024ee9",
   "metadata": {},
   "outputs": [],
   "source": [
    "volume_dust_C13 = Volume_from_dust(\n",
    "    points_in_C13,\n",
    "    minval = 1e-6,\n",
    "    maxval = 4e-4,\n",
    "    color = \"aquamarine\",\n",
    "    num = 13\n",
    ")"
   ]
  },
  {
   "cell_type": "markdown",
   "id": "0dd64629",
   "metadata": {},
   "source": [
    "___\n",
    "# Cloud 14"
   ]
  },
  {
   "cell_type": "code",
   "execution_count": 40,
   "id": "8e84377d",
   "metadata": {},
   "outputs": [
    {
     "name": "stderr",
     "output_type": "stream",
     "text": [
      "Optimizing map for querying (this might take a couple of seconds)...\n"
     ]
    }
   ],
   "source": [
    "### Wolke 14\n",
    "\n",
    "#Define SkyCoord\n",
    "#x14 = np.arange(-440, -160, 10)\n",
    "#y14 = np.arange(755, 1285, 10)\n",
    "#z14 = np.arange(140, 380, 10)\n",
    "#\n",
    "#dust_W14 = query_Edenhofer(x14, y14, z14)\n",
    "\n",
    "points_in_C14 = query_Edenhofer_in_cyl(\n",
    "    t=(-300, 1020, 265),\n",
    "    r=100,\n",
    "    h=500,\n",
    "    a=(8/18)*np.pi,\n",
    "    b=-(0.5/18)*np.pi\n",
    ")"
   ]
  },
  {
   "cell_type": "code",
   "execution_count": 41,
   "id": "127b2320",
   "metadata": {},
   "outputs": [],
   "source": [
    "volume_dust_C14 = Volume_from_dust(\n",
    "    points_in_C14,\n",
    "    minval = 1e-6,\n",
    "    maxval = 1.6e-3,\n",
    "    color = \"aquamarine\",\n",
    "    num = 14\n",
    ")"
   ]
  },
  {
   "cell_type": "markdown",
   "id": "50555eb3-75d1-47cf-b1ee-449eb9751245",
   "metadata": {},
   "source": [
    "___\n",
    "# Cloud 15"
   ]
  },
  {
   "cell_type": "code",
   "execution_count": 42,
   "id": "1e46b3e0-a0dd-4d93-8698-e0024f0c15bf",
   "metadata": {},
   "outputs": [
    {
     "name": "stderr",
     "output_type": "stream",
     "text": [
      "Optimizing map for querying (this might take a couple of seconds)...\n"
     ]
    }
   ],
   "source": [
    "### Wolke 15\n",
    "\n",
    "#Define SkyCoord\n",
    "#x15 = np.arange(-310, -30, 10)\n",
    "#y15 = np.arange(-690, -420, 10)\n",
    "#z15 = np.arange(-80, 80, 10)\n",
    "#\n",
    "#dust_W15 = query_Edenhofer(x15, y15, z15)\n",
    "\n",
    "points_in_C15 = query_Edenhofer_in_cyl(\n",
    "    t=(-170, -570, -20),\n",
    "    r=110,\n",
    "    h=200,\n",
    "    a=(9/18)*np.pi,\n",
    "    b=0\n",
    ")"
   ]
  },
  {
   "cell_type": "code",
   "execution_count": 43,
   "id": "f56e026e-733a-4fb6-b8c0-5b6885785598",
   "metadata": {},
   "outputs": [],
   "source": [
    "volume_dust_C15 = Volume_from_dust(\n",
    "    points_in_C15,\n",
    "    minval = 1e-6,\n",
    "    maxval = 4e-4,\n",
    "    color = \"deepskyblue\",\n",
    "    num = 15\n",
    ")"
   ]
  },
  {
   "cell_type": "markdown",
   "id": "6076dabb-ae43-4ce7-bb14-1d99483a4707",
   "metadata": {},
   "source": [
    "___\n",
    "# Cloud 16S"
   ]
  },
  {
   "cell_type": "code",
   "execution_count": 44,
   "id": "51ce6701-df82-4099-bd8d-b9cd4fc5daf9",
   "metadata": {},
   "outputs": [
    {
     "name": "stderr",
     "output_type": "stream",
     "text": [
      "Optimizing map for querying (this might take a couple of seconds)...\n"
     ]
    }
   ],
   "source": [
    "### Wolke 16\n",
    "\n",
    "#Define SkyCoord\n",
    "#x16 = np.arange(-1010, -850, 10)\n",
    "#y16 = np.arange(50, 210, 10)\n",
    "#z16 = np.arange(-290, -130, 10)\n",
    "#\n",
    "#dust_W16 = query_Edenhofer(x16, y16, z16)\n",
    "\n",
    "points_in_C16 = query_Edenhofer_in_cyl(\n",
    "    t=(-920, 120, -215),\n",
    "    r=100,\n",
    "    h=120,\n",
    "    a=0,\n",
    "    b=0\n",
    ")"
   ]
  },
  {
   "cell_type": "code",
   "execution_count": 45,
   "id": "ee25cff6-b163-4c1a-ba12-450f47a916d4",
   "metadata": {},
   "outputs": [],
   "source": [
    "volume_dust_C16 = Volume_from_dust(\n",
    "    points_in_C16,\n",
    "    minval = 1e-6,\n",
    "    maxval = 8e-4,\n",
    "    color = \"violet\",\n",
    "    num = 16\n",
    ")"
   ]
  },
  {
   "cell_type": "markdown",
   "id": "eee71be6-4841-428f-8087-7be8474c1050",
   "metadata": {},
   "source": [
    "___\n",
    "# Cloud 17"
   ]
  },
  {
   "cell_type": "code",
   "execution_count": 46,
   "id": "a18abf71-8bf0-4b3b-a7f7-7450608ffed4",
   "metadata": {},
   "outputs": [
    {
     "name": "stderr",
     "output_type": "stream",
     "text": [
      "Optimizing map for querying (this might take a couple of seconds)...\n"
     ]
    }
   ],
   "source": [
    "### Wolke 17\n",
    "\n",
    "#Define SkyCoord\n",
    "#x17 = np.arange(-520, 160, 10)\n",
    "#y17 = np.arange(-230, 330, 10)\n",
    "#z17 = np.arange(-410, -70, 10)\n",
    "#\n",
    "#dust_W17 = query_Edenhofer(x17, y17, z17)\n",
    "\n",
    "points_in_C17 = query_Edenhofer_in_cyl(\n",
    "    t=(-180, 50, -250),\n",
    "    r=100,\n",
    "    h=700,\n",
    "    a=(3.5/18)*np.pi,\n",
    "    b=(1/18)*np.pi\n",
    ")"
   ]
  },
  {
   "cell_type": "code",
   "execution_count": 47,
   "id": "269cb3af-8bfc-4565-bd4a-ed739a575017",
   "metadata": {},
   "outputs": [],
   "source": [
    "volume_dust_C17 = Volume_from_dust(\n",
    "    points_in_C17,\n",
    "    minval = 1e-6,\n",
    "    maxval = 1e-3,\n",
    "    color = \"fuchsia\",\n",
    "    num = 17\n",
    ")"
   ]
  },
  {
   "cell_type": "markdown",
   "id": "8e4939c8-eb3d-4cb8-b699-70978f3fc604",
   "metadata": {},
   "source": [
    "___\n",
    "# Cloud 18"
   ]
  },
  {
   "cell_type": "code",
   "execution_count": 48,
   "id": "6de84e02-2287-4796-9451-3795bb722c2e",
   "metadata": {},
   "outputs": [
    {
     "name": "stderr",
     "output_type": "stream",
     "text": [
      "Optimizing map for querying (this might take a couple of seconds)...\n"
     ]
    }
   ],
   "source": [
    "### Wolke 18\n",
    "\n",
    "#Define SkyCoord\n",
    "#x18 = np.arange(70, 330, 10)\n",
    "#y18 = np.arange(410, 740, 10)\n",
    "#z18 = np.arange(80, 290, 10)\n",
    "#\n",
    "#dust_W18 = query_Edenhofer(x18, y18, z18)\n",
    "\n",
    "points_in_C18 = query_Edenhofer_in_cyl(\n",
    "    t=(195, 600, 230),\n",
    "    r=105,\n",
    "    h=325,\n",
    "    a=(8/18)*np.pi,\n",
    "    b=-(3.5/18)*np.pi\n",
    ")"
   ]
  },
  {
   "cell_type": "code",
   "execution_count": 49,
   "id": "e978fa50-e015-4018-861f-100d87669452",
   "metadata": {},
   "outputs": [],
   "source": [
    "volume_dust_C18 = Volume_from_dust(\n",
    "    points_in_C18,\n",
    "    minval = 1e-6,\n",
    "    maxval = 6e-4,\n",
    "    color = \"crimson\",\n",
    "    num = 18\n",
    ")"
   ]
  },
  {
   "cell_type": "markdown",
   "id": "2aa00853",
   "metadata": {},
   "source": [
    "___\n",
    "# Cloud 19(Vela)"
   ]
  },
  {
   "cell_type": "code",
   "execution_count": 50,
   "id": "ff8b1c43",
   "metadata": {},
   "outputs": [
    {
     "name": "stderr",
     "output_type": "stream",
     "text": [
      "Optimizing map for querying (this might take a couple of seconds)...\n"
     ]
    }
   ],
   "source": [
    "### Wolke 19\n",
    "\n",
    "#Define SkyCoord\n",
    "#x19 = np.arange(-380, 290, 10)\n",
    "#y19 = np.arange(-1210, -540, 10)\n",
    "#z19 = np.arange(-200, 200, 10)\n",
    "#\n",
    "#dust_W19 = query_Edenhofer(x19, y19, z19)\n",
    "\n",
    "points_in_C19 = query_Edenhofer_in_cyl(\n",
    "    t=(-45, -875, 0),\n",
    "    r=200,\n",
    "    h=550,\n",
    "    a=(4.5/18)*np.pi,\n",
    "    b=0\n",
    ")"
   ]
  },
  {
   "cell_type": "code",
   "execution_count": 51,
   "id": "5e61d3f9",
   "metadata": {},
   "outputs": [],
   "source": [
    "volume_dust_C19 = Volume_from_dust(\n",
    "    points_in_C19,\n",
    "    minval = 1e-7,\n",
    "    maxval = 2e-3,\n",
    "    color = \"sienna\",\n",
    "    num = 19\n",
    ")"
   ]
  },
  {
   "cell_type": "markdown",
   "id": "9eed89e9",
   "metadata": {},
   "source": [
    "___\n",
    "# Cloud 20"
   ]
  },
  {
   "cell_type": "code",
   "execution_count": 52,
   "id": "b7c25cf7",
   "metadata": {},
   "outputs": [
    {
     "name": "stderr",
     "output_type": "stream",
     "text": [
      "Optimizing map for querying (this might take a couple of seconds)...\n"
     ]
    }
   ],
   "source": [
    "### Wolke 20\n",
    "\n",
    "points_in_C20 = query_Edenhofer_in_cyl(\n",
    "    t=(960, 200, 190),\n",
    "    r=100,\n",
    "    h=420,\n",
    "    a=-(4.5/18)*np.pi,\n",
    "    b=-(1/18)*np.pi\n",
    ")"
   ]
  },
  {
   "cell_type": "code",
   "execution_count": 53,
   "id": "4be4649d",
   "metadata": {},
   "outputs": [],
   "source": [
    "volume_dust_C20 = Volume_from_dust(\n",
    "    points_in_C20,\n",
    "    minval = 1e-6,\n",
    "    maxval = 6e-4,\n",
    "    color = \"sienna\",\n",
    "    num = 20\n",
    ")"
   ]
  },
  {
   "cell_type": "markdown",
   "id": "1ca4836b",
   "metadata": {},
   "source": [
    "___\n",
    "# Cloud 21"
   ]
  },
  {
   "cell_type": "code",
   "execution_count": 54,
   "id": "d673e087",
   "metadata": {},
   "outputs": [
    {
     "name": "stderr",
     "output_type": "stream",
     "text": [
      "Optimizing map for querying (this might take a couple of seconds)...\n"
     ]
    }
   ],
   "source": [
    "### Wolke 21a\n",
    "\n",
    "points_in_C21a = query_Edenhofer_in_cyl(\n",
    "    t=(-980, -190, 0),\n",
    "    r=70,\n",
    "    h=340,\n",
    "    a=(8.4/18)*np.pi,\n",
    "    b=(0.5/18)*np.pi\n",
    ")"
   ]
  },
  {
   "cell_type": "code",
   "execution_count": 64,
   "id": "e21cff8b",
   "metadata": {},
   "outputs": [
    {
     "name": "stderr",
     "output_type": "stream",
     "text": [
      "Optimizing map for querying (this might take a couple of seconds)...\n"
     ]
    }
   ],
   "source": [
    "### Wolke 21b\n",
    "\n",
    "points_in_C21b = query_Edenhofer_in_cyl(\n",
    "    t=(-1040, -40, 80),\n",
    "    r=55,\n",
    "    h=420,\n",
    "    a=(8.4/18)*np.pi,\n",
    "    b=-(0.5/18)*np.pi\n",
    ")"
   ]
  },
  {
   "cell_type": "code",
   "execution_count": 56,
   "id": "0dc9046e",
   "metadata": {},
   "outputs": [
    {
     "name": "stderr",
     "output_type": "stream",
     "text": [
      "Optimizing map for querying (this might take a couple of seconds)...\n"
     ]
    }
   ],
   "source": [
    "### Wolke 21c\n",
    "\n",
    "points_in_C21c = query_Edenhofer_in_cyl(\n",
    "    t=(-1070, 40, -60),\n",
    "    r=85,\n",
    "    h=460,\n",
    "    a=(8.7/18)*np.pi,\n",
    "    b=-(1.15/18)*np.pi\n",
    ")"
   ]
  },
  {
   "cell_type": "code",
   "execution_count": 57,
   "id": "a9a4b839",
   "metadata": {},
   "outputs": [],
   "source": [
    "volume_dust_C21a = Volume_from_dust(\n",
    "    points_in_C21a,\n",
    "    minval = 1e-6,\n",
    "    maxval = 1.6e-3,\n",
    "    color = \"peru\",\n",
    "    num = 21\n",
    ")\n",
    "volume_dust_C21a.name = volume_dust_C21a.name + \"a\""
   ]
  },
  {
   "cell_type": "code",
   "execution_count": 65,
   "id": "1668f874",
   "metadata": {},
   "outputs": [],
   "source": [
    "volume_dust_C21b = Volume_from_dust(\n",
    "    points_in_C21b,\n",
    "    minval = 1e-6,\n",
    "    maxval = 1.6e-3,\n",
    "    color = \"peru\",\n",
    "    num = 21\n",
    ")\n",
    "volume_dust_C21b.name = volume_dust_C21b.name + \"b\""
   ]
  },
  {
   "cell_type": "code",
   "execution_count": 59,
   "id": "f9d5a4ab",
   "metadata": {},
   "outputs": [],
   "source": [
    "volume_dust_C21c = Volume_from_dust(\n",
    "    points_in_C21c,\n",
    "    minval = 1e-6,\n",
    "    maxval = 1.6e-3,\n",
    "    color = \"peru\",\n",
    "    num = 21\n",
    ")\n",
    "volume_dust_C21c.name = volume_dust_C21c.name + \"c\""
   ]
  },
  {
   "cell_type": "markdown",
   "id": "9980f2ff",
   "metadata": {},
   "source": [
    "___\n",
    "# Cloud 22"
   ]
  },
  {
   "cell_type": "code",
   "execution_count": 70,
   "id": "f5195d34",
   "metadata": {},
   "outputs": [
    {
     "name": "stderr",
     "output_type": "stream",
     "text": [
      "Optimizing map for querying (this might take a couple of seconds)...\n"
     ]
    }
   ],
   "source": [
    "### Wolke 22\n",
    "\n",
    "points_in_C22 = query_Edenhofer_in_cyl(\n",
    "    t=(20, 170, -60),\n",
    "    r=55,\n",
    "    h=200,\n",
    "    a=(0.8/18)*np.pi,\n",
    "    b=-(0.5/18)*np.pi\n",
    ")"
   ]
  },
  {
   "cell_type": "code",
   "execution_count": 71,
   "id": "6f05ebb8",
   "metadata": {},
   "outputs": [],
   "source": [
    "volume_dust_C22 = Volume_from_dust(\n",
    "    points_in_C22,\n",
    "    minval = 1e-6,\n",
    "    maxval = 1e-3,\n",
    "    color = \"seagreen\",\n",
    "    num = 22\n",
    ")"
   ]
  },
  {
   "cell_type": "markdown",
   "id": "c7c64822",
   "metadata": {},
   "source": [
    "___\n",
    "# Cloud 23"
   ]
  },
  {
   "cell_type": "code",
   "execution_count": 73,
   "id": "fc560055",
   "metadata": {},
   "outputs": [
    {
     "name": "stderr",
     "output_type": "stream",
     "text": [
      "Optimizing map for querying (this might take a couple of seconds)...\n"
     ]
    }
   ],
   "source": [
    "### Wolke 23\n",
    "\n",
    "points_in_C23 = query_Edenhofer_in_cyl(\n",
    "    t=(80, 190, 40),\n",
    "    r=40,\n",
    "    h=200,\n",
    "    a=-(1.7/18)*np.pi,\n",
    "    b=(0.5/18)*np.pi\n",
    ")"
   ]
  },
  {
   "cell_type": "code",
   "execution_count": 76,
   "id": "d6daa4e6",
   "metadata": {},
   "outputs": [],
   "source": [
    "volume_dust_C23 = Volume_from_dust(\n",
    "    points_in_C23,\n",
    "    minval = 1e-6,\n",
    "    maxval = 8e-4,\n",
    "    color = \"darkslategray\",\n",
    "    num = 23\n",
    ")"
   ]
  },
  {
   "cell_type": "markdown",
   "id": "1045888c-b9e5-47dc-b878-c560e07959fa",
   "metadata": {},
   "source": [
    "___\n",
    "# Full Galaxy Dust?"
   ]
  },
  {
   "cell_type": "code",
   "execution_count": 60,
   "id": "266d2b41-e801-4eee-9df8-078747a6965d",
   "metadata": {},
   "outputs": [
    {
     "name": "stderr",
     "output_type": "stream",
     "text": [
      "Optimizing map for querying (this might take a couple of seconds)...\n"
     ]
    }
   ],
   "source": [
    "#Define SkyCoord\n",
    "xf = np.arange(-1250, 1250, 50)\n",
    "yf = np.arange(-1250, 1250, 50)\n",
    "zf = np.arange(-1250, 1250, 50)\n",
    "\n",
    "dust_f = query_Edenhofer(xf, yf, zf)"
   ]
  },
  {
   "cell_type": "code",
   "execution_count": 61,
   "id": "c2b3dbda-8f0a-4d02-a206-6fa3998ad92b",
   "metadata": {},
   "outputs": [],
   "source": [
    "xx, yy, zz = np.meshgrid(xf, yf, zf)\n",
    "volume_dust_f = go.Volume(\n",
    "    x = xx.flatten(),\n",
    "    y = yy.flatten(),\n",
    "    z = zz.flatten(),\n",
    "    value = dust_f,\n",
    "    flatshading = True,\n",
    "    #opacity = 0.1,\n",
    "    opacityscale = [[0, 0], [1, 0.5]],\n",
    "    isomin = 2e-6,\n",
    "    isomax = 6e-4,\n",
    "    surface = dict(show=True, count=1),\n",
    "    colorscale = [[0, \"white\"], [1, \"black\"]],\n",
    "    visible = \"legendonly\",\n",
    "    showlegend = True,\n",
    "    showscale = False,\n",
    "    name = \"Galactic Plane\",\n",
    "    #contour = dict(show=True, width=4)\n",
    "    #spaceframe = dict(show=True)\n",
    ")"
   ]
  },
  {
   "cell_type": "markdown",
   "id": "93727705-0b58-4a39-8ef0-c5afc76cae5f",
   "metadata": {},
   "source": [
    "___\n",
    "# Plotting"
   ]
  },
  {
   "cell_type": "code",
   "execution_count": 77,
   "id": "3c8e8780-6526-4a4b-89fa-fe8aac4d57bc",
   "metadata": {},
   "outputs": [],
   "source": [
    "#Bounds manuell setten, vllt automatisier ich das noch, jz nur test\n",
    "x_bounds = [-1250, 1250]\n",
    "y_bounds = [-1250, 1250]\n",
    "z_bounds = [-500, 600]\n",
    "\n",
    "yscale = (np.max(y_bounds)-np.min(y_bounds))/(np.max(z_bounds)-np.min(z_bounds))\n",
    "xscale = (np.max(x_bounds)-np.min(x_bounds))/(np.max(z_bounds)-np.min(z_bounds))\n",
    "\n",
    "layout_3d = go.Layout(\n",
    "    template = \"plotly_white\",\n",
    "    #paper_bgcolor = \"black\",\n",
    "    #plot_bgcolor = \"black\",\n",
    "    title = \"Dust\",\n",
    "    showlegend = True,\n",
    "    scene = dict(\n",
    "        aspectmode = 'manual',\n",
    "        aspectratio = dict(x = xscale, y = yscale, z = 1),\n",
    "        xaxis = dict(title = \"x\", range = x_bounds),\n",
    "        yaxis = dict(title = \"y\", range = y_bounds),\n",
    "        zaxis = dict(title = \"z\", range = z_bounds),\n",
    "    )\n",
    ")\n",
    "\n",
    "sun_scatter3D = go.Scatter3d(\n",
    "    x = [0],\n",
    "    y = [0],\n",
    "    z = [0],\n",
    "    mode = 'markers',\n",
    "    marker = dict(\n",
    "        size = 3,\n",
    "        color = 'yellow'\n",
    "    ),\n",
    "    name = 'Sun',\n",
    "    hovertext = 'Sun'\n",
    ")\n",
    "\n",
    "\n",
    "fig_3d_dust = go.Figure(data = [\n",
    "    sun_scatter3D,\n",
    "    volume_dust_C1,\n",
    "    volume_dust_C2,\n",
    "    volume_dust_C3,\n",
    "    volume_dust_C4,\n",
    "    volume_dust_C5,\n",
    "    volume_dust_C6,\n",
    "    volume_dust_C7,\n",
    "    volume_dust_C8a, volume_dust_C8b, volume_dust_C8c,\n",
    "    volume_dust_C9,\n",
    "    volume_dust_C10,\n",
    "    volume_dust_C11,\n",
    "    volume_dust_C12,\n",
    "    volume_dust_C13,\n",
    "    volume_dust_C15,\n",
    "    volume_dust_C16,\n",
    "    volume_dust_C17,\n",
    "    volume_dust_C18,\n",
    "    volume_dust_C19,\n",
    "    volume_dust_C20,\n",
    "    volume_dust_C21a, volume_dust_C21b, volume_dust_C21c,\n",
    "    volume_dust_C22,\n",
    "    volume_dust_C23,\n",
    "    volume_dust_f\n",
    "], layout = layout_3d)\n",
    "fig_3d_dust.write_html(plot_save_directory + \"test2_2.html\")"
   ]
  },
  {
   "cell_type": "code",
   "execution_count": null,
   "id": "aacfeade-4ccf-4b8e-83db-161b84942b11",
   "metadata": {},
   "outputs": [],
   "source": []
  }
 ],
 "metadata": {
  "kernelspec": {
   "display_name": "Python 3 (ipykernel)",
   "language": "python",
   "name": "python3"
  },
  "language_info": {
   "codemirror_mode": {
    "name": "ipython",
    "version": 3
   },
   "file_extension": ".py",
   "mimetype": "text/x-python",
   "name": "python",
   "nbconvert_exporter": "python",
   "pygments_lexer": "ipython3",
   "version": "3.11.9"
  }
 },
 "nbformat": 4,
 "nbformat_minor": 5
}
